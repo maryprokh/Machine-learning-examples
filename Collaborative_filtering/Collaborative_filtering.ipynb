{
  "cells": [
    {
      "cell_type": "markdown",
      "metadata": {
        "id": "jR1i2wBZd0AU"
      },
      "source": [
        "<h2>Movie recommender with item-based collaborative filtering</h2> \n",
        "\n",
        "Contents:\n",
        "- Introduction\n",
        "- Basic concept\n",
        "- Data set\n",
        "- Implementation\n",
        "- In addition - building app in Flask\n",
        "\n",
        "Collaborative filtering is a technique that helps filter out items that a user might like on the basis of reactions by similar users. In this article I show a simple example of using item-based filtering applied to a movies data set.\n",
        "\n",
        "\n",
        "<h3>Introduction</h3>\n",
        "\n",
        "  The idea is to develop a movie recommender that shows five the nearest movies to a selected movie. Since data about movies genres is available, we can also add filtering by genres. However, first it doesn't hurt to provide a little introduction about what collaborative filtering is.\n",
        "There are two main types of collaborative filtering - user-based and item-based. Item based means that for item, which wasn't rated by user, rating is calculated based on ratings of similar items given by user. Vice versa, user-based means that rating for a certain item not rated by user is calclated based on ratings of similar users for this item.\n",
        "\n",
        "Item-based collaborative filtering was developed by Amazon. Advantages of item-based filtering:\n",
        "- item-based filtering is faster and more stable when there are more users than items. The reason is that usually, the average rating received by an item doesn’t change as quickly as the average rating given by a user to different items. \n",
        "- item-based filtering performs better when the ratings matrix is sparse - it has many null values.\n",
        "\n",
        "\n"
      ]
    },
    {
      "cell_type": "markdown",
      "metadata": {
        "id": "6qz6q35xn7c_"
      },
      "source": [
        "<h3>Basic concept</h3>\n",
        "\n",
        "Detailed description of item-based collaborative filtering is provided in [this article.](https://towardsdatascience.com/item-based-collaborative-filtering-in-python-91f747200fab)\n",
        "To briefly explain how collaborative filtering works, a good way is do imagine a small table, where rows are movies, columns are users, a value on intersection of rows and columns is a rating, which were given to a movie by a user. Since there's no situation in real life when all users rated all movies, table cointains some null values which should be filled.\n",
        "\n",
        "The fundamental assumption for this method is that a user gives similar ratings to similar movies. 'Similarity' can be estimated in a different ways. For example, euclidean distance or cosine similarity.\n",
        "\n",
        "The cosine similarity uses cosinus of an angle to measure the distance between two vectors. Vectors of ratings for one movie are constructed using ratings of all users. We need to measure an angle between two movies vectors. As angle increases, cosinus (= similarity)decreases. \n",
        "\n",
        "Finally, to calculate rating for not rated movie, we calculate weighted average of ratings given to items which we consider the most similar. The more cosine similarity value is, the more weight should be given to rating of item used for estimation.\n",
        "\n",
        "We can determine number of the closest items to the estimated one by ourselves, using K- nearest neighbors algorithm. The KNN algorithm assumes that similar things exist in close proximity. In other words, similar things are near to each other. So, we use KNN algorithm with cosine similarity metrics and pass as a parameter a number of neighbors."
      ]
    },
    {
      "cell_type": "markdown",
      "metadata": {
        "id": "rGy_gcqq_rWm"
      },
      "source": [
        "<h3>Implementation of the algorithm</h3>\n",
        "<h4>Data set</h4>\n",
        "\n",
        "In the example I use [MovieLens 25M Dataset.](https://grouplens.org/datasets/movielens/) \n",
        "\n",
        "This data set (ml-25m) describes 5-star rating and free-text tagging activity from MovieLens, a movie recommendation service. It contains 25000095 ratings and 1093360 tag applications across 62423 movies. These data were created by 162541 users between January 09, 1995 and November 21, 2019. This data set was generated on November 21, 2019.\n",
        "\n",
        "Users were selected at random for inclusion. All selected users had rated at least 20 movies. No demographic information is included. Each user is represented by an id, and no other information is provided.\n",
        "\n",
        "I use only two tables - movies and ratings.\n",
        "<h4>Code</h4>\n",
        "\n",
        "I will work with data from Google Colab. I uploaded the zip file on Drive, so, I need to mount at it."
      ]
    },
    {
      "cell_type": "code",
      "execution_count": 11,
      "metadata": {
        "colab": {
          "base_uri": "https://localhost:8080/"
        },
        "id": "dKXRV98b-fxI",
        "outputId": "e6e1c9b8-cdfd-44b0-b869-423f8cb8a145"
      },
      "outputs": [
        {
          "name": "stdout",
          "output_type": "stream",
          "text": [
            "Drive already mounted at /content/gdrive; to attempt to forcibly remount, call drive.mount(\"/content/gdrive\", force_remount=True).\n"
          ]
        }
      ],
      "source": [
        "from google.colab import drive\n",
        "drive.mount('/content/gdrive') "
      ]
    },
    {
      "cell_type": "markdown",
      "metadata": {
        "id": "XVdT36JQDzni"
      },
      "source": [
        "Next step is to unzip files. It's needed to pass file directory."
      ]
    },
    {
      "cell_type": "code",
      "execution_count": 12,
      "metadata": {
        "colab": {
          "base_uri": "https://localhost:8080/"
        },
        "id": "8ifqEmzL4OGR",
        "outputId": "f169f12f-adc2-4568-9982-747bfd6d311b"
      },
      "outputs": [
        {
          "name": "stdout",
          "output_type": "stream",
          "text": [
            "Archive:  /content/gdrive/MyDrive/Collaborative Filtering/ml-25m.zip\n",
            "replace ml-25m/ml-25m/tags.csv? [y]es, [n]o, [A]ll, [N]one, [r]ename: "
          ]
        }
      ],
      "source": [
        "!unzip '/content/gdrive/MyDrive/Collaborative Filtering/ml-25m.zip' -d 'ml-25m'"
      ]
    },
    {
      "cell_type": "markdown",
      "metadata": {
        "id": "RQHKbJ95GEnO"
      },
      "source": [
        "Folder appears in files section on Google Colab. We can see that inside the folder there is another folder with the same name and inside it there are 5 files. Let's create a path for more convenient use."
      ]
    },
    {
      "cell_type": "code",
      "execution_count": 13,
      "metadata": {
        "id": "gXIBvg2uGP63"
      },
      "outputs": [],
      "source": [
        "path = 'ml-25m/ml-25m/'"
      ]
    },
    {
      "cell_type": "markdown",
      "metadata": {
        "id": "PRS8w9ccIuK4"
      },
      "source": [
        "Let's read two csv files using pandas. Ratings dataframe includes user id, movie id, rating and timestamp columns. Movies dataframe includes movie id, title and genre columns. As we can see, both dataframes contain column movie id, so they can be merged (inner joint)."
      ]
    },
    {
      "cell_type": "code",
      "execution_count": 17,
      "metadata": {
        "colab": {
          "base_uri": "https://localhost:8080/",
          "height": 305
        },
        "id": "bLHzDeN44Hq5",
        "outputId": "097b6a61-f9e6-4626-9945-fd7dbc35225e"
      },
      "outputs": [
        {
          "name": "stdout",
          "output_type": "stream",
          "text": [
            "(25000095, 4)\n"
          ]
        },
        {
          "data": {
            "text/html": [
              "\n",
              "  <div id=\"df-1995c261-8b62-43fb-946c-55d381d7ef53\">\n",
              "    <div class=\"colab-df-container\">\n",
              "      <div>\n",
              "<style scoped>\n",
              "    .dataframe tbody tr th:only-of-type {\n",
              "        vertical-align: middle;\n",
              "    }\n",
              "\n",
              "    .dataframe tbody tr th {\n",
              "        vertical-align: top;\n",
              "    }\n",
              "\n",
              "    .dataframe thead th {\n",
              "        text-align: right;\n",
              "    }\n",
              "</style>\n",
              "<table border=\"1\" class=\"dataframe\">\n",
              "  <thead>\n",
              "    <tr style=\"text-align: right;\">\n",
              "      <th></th>\n",
              "      <th>userId</th>\n",
              "      <th>movieId</th>\n",
              "      <th>rating</th>\n",
              "      <th>timestamp</th>\n",
              "    </tr>\n",
              "  </thead>\n",
              "  <tbody>\n",
              "    <tr>\n",
              "      <th>0</th>\n",
              "      <td>1</td>\n",
              "      <td>296</td>\n",
              "      <td>5.0</td>\n",
              "      <td>1147880044</td>\n",
              "    </tr>\n",
              "    <tr>\n",
              "      <th>1</th>\n",
              "      <td>1</td>\n",
              "      <td>306</td>\n",
              "      <td>3.5</td>\n",
              "      <td>1147868817</td>\n",
              "    </tr>\n",
              "    <tr>\n",
              "      <th>2</th>\n",
              "      <td>1</td>\n",
              "      <td>307</td>\n",
              "      <td>5.0</td>\n",
              "      <td>1147868828</td>\n",
              "    </tr>\n",
              "  </tbody>\n",
              "</table>\n",
              "</div>\n",
              "      <button class=\"colab-df-convert\" onclick=\"convertToInteractive('df-1995c261-8b62-43fb-946c-55d381d7ef53')\"\n",
              "              title=\"Convert this dataframe to an interactive table.\"\n",
              "              style=\"display:none;\">\n",
              "        \n",
              "  <svg xmlns=\"http://www.w3.org/2000/svg\" height=\"24px\"viewBox=\"0 0 24 24\"\n",
              "       width=\"24px\">\n",
              "    <path d=\"M0 0h24v24H0V0z\" fill=\"none\"/>\n",
              "    <path d=\"M18.56 5.44l.94 2.06.94-2.06 2.06-.94-2.06-.94-.94-2.06-.94 2.06-2.06.94zm-11 1L8.5 8.5l.94-2.06 2.06-.94-2.06-.94L8.5 2.5l-.94 2.06-2.06.94zm10 10l.94 2.06.94-2.06 2.06-.94-2.06-.94-.94-2.06-.94 2.06-2.06.94z\"/><path d=\"M17.41 7.96l-1.37-1.37c-.4-.4-.92-.59-1.43-.59-.52 0-1.04.2-1.43.59L10.3 9.45l-7.72 7.72c-.78.78-.78 2.05 0 2.83L4 21.41c.39.39.9.59 1.41.59.51 0 1.02-.2 1.41-.59l7.78-7.78 2.81-2.81c.8-.78.8-2.07 0-2.86zM5.41 20L4 18.59l7.72-7.72 1.47 1.35L5.41 20z\"/>\n",
              "  </svg>\n",
              "      </button>\n",
              "      \n",
              "  <style>\n",
              "    .colab-df-container {\n",
              "      display:flex;\n",
              "      flex-wrap:wrap;\n",
              "      gap: 12px;\n",
              "    }\n",
              "\n",
              "    .colab-df-convert {\n",
              "      background-color: #E8F0FE;\n",
              "      border: none;\n",
              "      border-radius: 50%;\n",
              "      cursor: pointer;\n",
              "      display: none;\n",
              "      fill: #1967D2;\n",
              "      height: 32px;\n",
              "      padding: 0 0 0 0;\n",
              "      width: 32px;\n",
              "    }\n",
              "\n",
              "    .colab-df-convert:hover {\n",
              "      background-color: #E2EBFA;\n",
              "      box-shadow: 0px 1px 2px rgba(60, 64, 67, 0.3), 0px 1px 3px 1px rgba(60, 64, 67, 0.15);\n",
              "      fill: #174EA6;\n",
              "    }\n",
              "\n",
              "    [theme=dark] .colab-df-convert {\n",
              "      background-color: #3B4455;\n",
              "      fill: #D2E3FC;\n",
              "    }\n",
              "\n",
              "    [theme=dark] .colab-df-convert:hover {\n",
              "      background-color: #434B5C;\n",
              "      box-shadow: 0px 1px 3px 1px rgba(0, 0, 0, 0.15);\n",
              "      filter: drop-shadow(0px 1px 2px rgba(0, 0, 0, 0.3));\n",
              "      fill: #FFFFFF;\n",
              "    }\n",
              "  </style>\n",
              "\n",
              "      <script>\n",
              "        const buttonEl =\n",
              "          document.querySelector('#df-1995c261-8b62-43fb-946c-55d381d7ef53 button.colab-df-convert');\n",
              "        buttonEl.style.display =\n",
              "          google.colab.kernel.accessAllowed ? 'block' : 'none';\n",
              "\n",
              "        async function convertToInteractive(key) {\n",
              "          const element = document.querySelector('#df-1995c261-8b62-43fb-946c-55d381d7ef53');\n",
              "          const dataTable =\n",
              "            await google.colab.kernel.invokeFunction('convertToInteractive',\n",
              "                                                     [key], {});\n",
              "          if (!dataTable) return;\n",
              "\n",
              "          const docLinkHtml = 'Like what you see? Visit the ' +\n",
              "            '<a target=\"_blank\" href=https://colab.research.google.com/notebooks/data_table.ipynb>data table notebook</a>'\n",
              "            + ' to learn more about interactive tables.';\n",
              "          element.innerHTML = '';\n",
              "          dataTable['output_type'] = 'display_data';\n",
              "          await google.colab.output.renderOutput(dataTable, element);\n",
              "          const docLink = document.createElement('div');\n",
              "          docLink.innerHTML = docLinkHtml;\n",
              "          element.appendChild(docLink);\n",
              "        }\n",
              "      </script>\n",
              "    </div>\n",
              "  </div>\n",
              "  "
            ],
            "text/plain": [
              "   userId  movieId  rating   timestamp\n",
              "0       1      296     5.0  1147880044\n",
              "1       1      306     3.5  1147868817\n",
              "2       1      307     5.0  1147868828"
            ]
          },
          "metadata": {},
          "output_type": "display_data"
        },
        {
          "name": "stdout",
          "output_type": "stream",
          "text": [
            "(62423, 3)\n"
          ]
        },
        {
          "data": {
            "text/html": [
              "\n",
              "  <div id=\"df-3b62c35a-e3a2-41b6-b17b-3eb5a191b785\">\n",
              "    <div class=\"colab-df-container\">\n",
              "      <div>\n",
              "<style scoped>\n",
              "    .dataframe tbody tr th:only-of-type {\n",
              "        vertical-align: middle;\n",
              "    }\n",
              "\n",
              "    .dataframe tbody tr th {\n",
              "        vertical-align: top;\n",
              "    }\n",
              "\n",
              "    .dataframe thead th {\n",
              "        text-align: right;\n",
              "    }\n",
              "</style>\n",
              "<table border=\"1\" class=\"dataframe\">\n",
              "  <thead>\n",
              "    <tr style=\"text-align: right;\">\n",
              "      <th></th>\n",
              "      <th>movieId</th>\n",
              "      <th>title</th>\n",
              "      <th>genres</th>\n",
              "    </tr>\n",
              "  </thead>\n",
              "  <tbody>\n",
              "    <tr>\n",
              "      <th>0</th>\n",
              "      <td>1</td>\n",
              "      <td>Toy Story (1995)</td>\n",
              "      <td>Adventure|Animation|Children|Comedy|Fantasy</td>\n",
              "    </tr>\n",
              "    <tr>\n",
              "      <th>1</th>\n",
              "      <td>2</td>\n",
              "      <td>Jumanji (1995)</td>\n",
              "      <td>Adventure|Children|Fantasy</td>\n",
              "    </tr>\n",
              "    <tr>\n",
              "      <th>2</th>\n",
              "      <td>3</td>\n",
              "      <td>Grumpier Old Men (1995)</td>\n",
              "      <td>Comedy|Romance</td>\n",
              "    </tr>\n",
              "  </tbody>\n",
              "</table>\n",
              "</div>\n",
              "      <button class=\"colab-df-convert\" onclick=\"convertToInteractive('df-3b62c35a-e3a2-41b6-b17b-3eb5a191b785')\"\n",
              "              title=\"Convert this dataframe to an interactive table.\"\n",
              "              style=\"display:none;\">\n",
              "        \n",
              "  <svg xmlns=\"http://www.w3.org/2000/svg\" height=\"24px\"viewBox=\"0 0 24 24\"\n",
              "       width=\"24px\">\n",
              "    <path d=\"M0 0h24v24H0V0z\" fill=\"none\"/>\n",
              "    <path d=\"M18.56 5.44l.94 2.06.94-2.06 2.06-.94-2.06-.94-.94-2.06-.94 2.06-2.06.94zm-11 1L8.5 8.5l.94-2.06 2.06-.94-2.06-.94L8.5 2.5l-.94 2.06-2.06.94zm10 10l.94 2.06.94-2.06 2.06-.94-2.06-.94-.94-2.06-.94 2.06-2.06.94z\"/><path d=\"M17.41 7.96l-1.37-1.37c-.4-.4-.92-.59-1.43-.59-.52 0-1.04.2-1.43.59L10.3 9.45l-7.72 7.72c-.78.78-.78 2.05 0 2.83L4 21.41c.39.39.9.59 1.41.59.51 0 1.02-.2 1.41-.59l7.78-7.78 2.81-2.81c.8-.78.8-2.07 0-2.86zM5.41 20L4 18.59l7.72-7.72 1.47 1.35L5.41 20z\"/>\n",
              "  </svg>\n",
              "      </button>\n",
              "      \n",
              "  <style>\n",
              "    .colab-df-container {\n",
              "      display:flex;\n",
              "      flex-wrap:wrap;\n",
              "      gap: 12px;\n",
              "    }\n",
              "\n",
              "    .colab-df-convert {\n",
              "      background-color: #E8F0FE;\n",
              "      border: none;\n",
              "      border-radius: 50%;\n",
              "      cursor: pointer;\n",
              "      display: none;\n",
              "      fill: #1967D2;\n",
              "      height: 32px;\n",
              "      padding: 0 0 0 0;\n",
              "      width: 32px;\n",
              "    }\n",
              "\n",
              "    .colab-df-convert:hover {\n",
              "      background-color: #E2EBFA;\n",
              "      box-shadow: 0px 1px 2px rgba(60, 64, 67, 0.3), 0px 1px 3px 1px rgba(60, 64, 67, 0.15);\n",
              "      fill: #174EA6;\n",
              "    }\n",
              "\n",
              "    [theme=dark] .colab-df-convert {\n",
              "      background-color: #3B4455;\n",
              "      fill: #D2E3FC;\n",
              "    }\n",
              "\n",
              "    [theme=dark] .colab-df-convert:hover {\n",
              "      background-color: #434B5C;\n",
              "      box-shadow: 0px 1px 3px 1px rgba(0, 0, 0, 0.15);\n",
              "      filter: drop-shadow(0px 1px 2px rgba(0, 0, 0, 0.3));\n",
              "      fill: #FFFFFF;\n",
              "    }\n",
              "  </style>\n",
              "\n",
              "      <script>\n",
              "        const buttonEl =\n",
              "          document.querySelector('#df-3b62c35a-e3a2-41b6-b17b-3eb5a191b785 button.colab-df-convert');\n",
              "        buttonEl.style.display =\n",
              "          google.colab.kernel.accessAllowed ? 'block' : 'none';\n",
              "\n",
              "        async function convertToInteractive(key) {\n",
              "          const element = document.querySelector('#df-3b62c35a-e3a2-41b6-b17b-3eb5a191b785');\n",
              "          const dataTable =\n",
              "            await google.colab.kernel.invokeFunction('convertToInteractive',\n",
              "                                                     [key], {});\n",
              "          if (!dataTable) return;\n",
              "\n",
              "          const docLinkHtml = 'Like what you see? Visit the ' +\n",
              "            '<a target=\"_blank\" href=https://colab.research.google.com/notebooks/data_table.ipynb>data table notebook</a>'\n",
              "            + ' to learn more about interactive tables.';\n",
              "          element.innerHTML = '';\n",
              "          dataTable['output_type'] = 'display_data';\n",
              "          await google.colab.output.renderOutput(dataTable, element);\n",
              "          const docLink = document.createElement('div');\n",
              "          docLink.innerHTML = docLinkHtml;\n",
              "          element.appendChild(docLink);\n",
              "        }\n",
              "      </script>\n",
              "    </div>\n",
              "  </div>\n",
              "  "
            ],
            "text/plain": [
              "   movieId                    title  \\\n",
              "0        1         Toy Story (1995)   \n",
              "1        2           Jumanji (1995)   \n",
              "2        3  Grumpier Old Men (1995)   \n",
              "\n",
              "                                        genres  \n",
              "0  Adventure|Animation|Children|Comedy|Fantasy  \n",
              "1                   Adventure|Children|Fantasy  \n",
              "2                               Comedy|Romance  "
            ]
          },
          "metadata": {},
          "output_type": "display_data"
        }
      ],
      "source": [
        "#import modules\n",
        "import pandas as pd\n",
        "from IPython.display import display\n",
        "\n",
        "#read data\n",
        "ratings_df = pd.read_csv(path + 'ratings.csv')\n",
        "movies_df = pd.read_csv(path + 'movies.csv')\n",
        "\n",
        "#display shape and a part of the dataframes\n",
        "print(ratings_df.shape)\n",
        "display(ratings_df.head(3))\n",
        "print(movies_df.shape)\n",
        "display(movies_df.head(3))"
      ]
    },
    {
      "cell_type": "code",
      "execution_count": 18,
      "metadata": {
        "colab": {
          "base_uri": "https://localhost:8080/",
          "height": 143
        },
        "id": "mZ4tUuC_LPu5",
        "outputId": "6af46389-9c0c-4410-f290-2c0be0b8285c"
      },
      "outputs": [
        {
          "data": {
            "text/html": [
              "\n",
              "  <div id=\"df-2443f6ab-e452-4efb-b03c-feccdd19938f\">\n",
              "    <div class=\"colab-df-container\">\n",
              "      <div>\n",
              "<style scoped>\n",
              "    .dataframe tbody tr th:only-of-type {\n",
              "        vertical-align: middle;\n",
              "    }\n",
              "\n",
              "    .dataframe tbody tr th {\n",
              "        vertical-align: top;\n",
              "    }\n",
              "\n",
              "    .dataframe thead th {\n",
              "        text-align: right;\n",
              "    }\n",
              "</style>\n",
              "<table border=\"1\" class=\"dataframe\">\n",
              "  <thead>\n",
              "    <tr style=\"text-align: right;\">\n",
              "      <th></th>\n",
              "      <th>movieId</th>\n",
              "      <th>title</th>\n",
              "      <th>genres</th>\n",
              "      <th>userId</th>\n",
              "      <th>rating</th>\n",
              "      <th>timestamp</th>\n",
              "    </tr>\n",
              "  </thead>\n",
              "  <tbody>\n",
              "    <tr>\n",
              "      <th>0</th>\n",
              "      <td>1</td>\n",
              "      <td>Toy Story (1995)</td>\n",
              "      <td>Adventure|Animation|Children|Comedy|Fantasy</td>\n",
              "      <td>2</td>\n",
              "      <td>3.5</td>\n",
              "      <td>1141415820</td>\n",
              "    </tr>\n",
              "    <tr>\n",
              "      <th>1</th>\n",
              "      <td>1</td>\n",
              "      <td>Toy Story (1995)</td>\n",
              "      <td>Adventure|Animation|Children|Comedy|Fantasy</td>\n",
              "      <td>3</td>\n",
              "      <td>4.0</td>\n",
              "      <td>1439472215</td>\n",
              "    </tr>\n",
              "    <tr>\n",
              "      <th>2</th>\n",
              "      <td>1</td>\n",
              "      <td>Toy Story (1995)</td>\n",
              "      <td>Adventure|Animation|Children|Comedy|Fantasy</td>\n",
              "      <td>4</td>\n",
              "      <td>3.0</td>\n",
              "      <td>1573944252</td>\n",
              "    </tr>\n",
              "  </tbody>\n",
              "</table>\n",
              "</div>\n",
              "      <button class=\"colab-df-convert\" onclick=\"convertToInteractive('df-2443f6ab-e452-4efb-b03c-feccdd19938f')\"\n",
              "              title=\"Convert this dataframe to an interactive table.\"\n",
              "              style=\"display:none;\">\n",
              "        \n",
              "  <svg xmlns=\"http://www.w3.org/2000/svg\" height=\"24px\"viewBox=\"0 0 24 24\"\n",
              "       width=\"24px\">\n",
              "    <path d=\"M0 0h24v24H0V0z\" fill=\"none\"/>\n",
              "    <path d=\"M18.56 5.44l.94 2.06.94-2.06 2.06-.94-2.06-.94-.94-2.06-.94 2.06-2.06.94zm-11 1L8.5 8.5l.94-2.06 2.06-.94-2.06-.94L8.5 2.5l-.94 2.06-2.06.94zm10 10l.94 2.06.94-2.06 2.06-.94-2.06-.94-.94-2.06-.94 2.06-2.06.94z\"/><path d=\"M17.41 7.96l-1.37-1.37c-.4-.4-.92-.59-1.43-.59-.52 0-1.04.2-1.43.59L10.3 9.45l-7.72 7.72c-.78.78-.78 2.05 0 2.83L4 21.41c.39.39.9.59 1.41.59.51 0 1.02-.2 1.41-.59l7.78-7.78 2.81-2.81c.8-.78.8-2.07 0-2.86zM5.41 20L4 18.59l7.72-7.72 1.47 1.35L5.41 20z\"/>\n",
              "  </svg>\n",
              "      </button>\n",
              "      \n",
              "  <style>\n",
              "    .colab-df-container {\n",
              "      display:flex;\n",
              "      flex-wrap:wrap;\n",
              "      gap: 12px;\n",
              "    }\n",
              "\n",
              "    .colab-df-convert {\n",
              "      background-color: #E8F0FE;\n",
              "      border: none;\n",
              "      border-radius: 50%;\n",
              "      cursor: pointer;\n",
              "      display: none;\n",
              "      fill: #1967D2;\n",
              "      height: 32px;\n",
              "      padding: 0 0 0 0;\n",
              "      width: 32px;\n",
              "    }\n",
              "\n",
              "    .colab-df-convert:hover {\n",
              "      background-color: #E2EBFA;\n",
              "      box-shadow: 0px 1px 2px rgba(60, 64, 67, 0.3), 0px 1px 3px 1px rgba(60, 64, 67, 0.15);\n",
              "      fill: #174EA6;\n",
              "    }\n",
              "\n",
              "    [theme=dark] .colab-df-convert {\n",
              "      background-color: #3B4455;\n",
              "      fill: #D2E3FC;\n",
              "    }\n",
              "\n",
              "    [theme=dark] .colab-df-convert:hover {\n",
              "      background-color: #434B5C;\n",
              "      box-shadow: 0px 1px 3px 1px rgba(0, 0, 0, 0.15);\n",
              "      filter: drop-shadow(0px 1px 2px rgba(0, 0, 0, 0.3));\n",
              "      fill: #FFFFFF;\n",
              "    }\n",
              "  </style>\n",
              "\n",
              "      <script>\n",
              "        const buttonEl =\n",
              "          document.querySelector('#df-2443f6ab-e452-4efb-b03c-feccdd19938f button.colab-df-convert');\n",
              "        buttonEl.style.display =\n",
              "          google.colab.kernel.accessAllowed ? 'block' : 'none';\n",
              "\n",
              "        async function convertToInteractive(key) {\n",
              "          const element = document.querySelector('#df-2443f6ab-e452-4efb-b03c-feccdd19938f');\n",
              "          const dataTable =\n",
              "            await google.colab.kernel.invokeFunction('convertToInteractive',\n",
              "                                                     [key], {});\n",
              "          if (!dataTable) return;\n",
              "\n",
              "          const docLinkHtml = 'Like what you see? Visit the ' +\n",
              "            '<a target=\"_blank\" href=https://colab.research.google.com/notebooks/data_table.ipynb>data table notebook</a>'\n",
              "            + ' to learn more about interactive tables.';\n",
              "          element.innerHTML = '';\n",
              "          dataTable['output_type'] = 'display_data';\n",
              "          await google.colab.output.renderOutput(dataTable, element);\n",
              "          const docLink = document.createElement('div');\n",
              "          docLink.innerHTML = docLinkHtml;\n",
              "          element.appendChild(docLink);\n",
              "        }\n",
              "      </script>\n",
              "    </div>\n",
              "  </div>\n",
              "  "
            ],
            "text/plain": [
              "   movieId             title                                       genres  \\\n",
              "0        1  Toy Story (1995)  Adventure|Animation|Children|Comedy|Fantasy   \n",
              "1        1  Toy Story (1995)  Adventure|Animation|Children|Comedy|Fantasy   \n",
              "2        1  Toy Story (1995)  Adventure|Animation|Children|Comedy|Fantasy   \n",
              "\n",
              "   userId  rating   timestamp  \n",
              "0       2     3.5  1141415820  \n",
              "1       3     4.0  1439472215  \n",
              "2       4     3.0  1573944252  "
            ]
          },
          "execution_count": 18,
          "metadata": {},
          "output_type": "execute_result"
        }
      ],
      "source": [
        "#merge dataframes\n",
        "df = pd.merge(movies_df, ratings_df)\n",
        "df.head(3)\n"
      ]
    },
    {
      "cell_type": "markdown",
      "metadata": {
        "id": "bIIBeDcQ_jyl"
      },
      "source": [
        "Below statistics of the dataframe is provided. As we can see, the dataframe has no duplicates, no null values. Also it has appropriate columns data types (excluding timestamp but it won't be used in the analysis)."
      ]
    },
    {
      "cell_type": "code",
      "execution_count": 19,
      "metadata": {
        "colab": {
          "base_uri": "https://localhost:8080/"
        },
        "id": "3zpl0s5GNyCx",
        "outputId": "a925f1cd-6a2f-4bd2-e854-4c50bf05c516"
      },
      "outputs": [
        {
          "name": "stdout",
          "output_type": "stream",
          "text": [
            "Dataframe shape - (25000095, 6)\n",
            "Dataframe info:\n",
            "<class 'pandas.core.frame.DataFrame'>\n",
            "Int64Index: 25000095 entries, 0 to 25000094\n",
            "Data columns (total 6 columns):\n",
            " #   Column     Dtype  \n",
            "---  ------     -----  \n",
            " 0   movieId    int64  \n",
            " 1   title      object \n",
            " 2   genres     object \n",
            " 3   userId     int64  \n",
            " 4   rating     float64\n",
            " 5   timestamp  int64  \n",
            "dtypes: float64(1), int64(3), object(2)\n",
            "memory usage: 1.3+ GB\n",
            "Number of null values:\n"
          ]
        },
        {
          "data": {
            "text/plain": [
              "movieId      0\n",
              "title        0\n",
              "genres       0\n",
              "userId       0\n",
              "rating       0\n",
              "timestamp    0\n",
              "dtype: int64"
            ]
          },
          "execution_count": 19,
          "metadata": {},
          "output_type": "execute_result"
        }
      ],
      "source": [
        "#display the shape\n",
        "print(f'Dataframe shape - {df.shape}')\n",
        "#display data types of the dataframe columns\n",
        "print('Dataframe info:')\n",
        "df.info()\n",
        "#display how many null values each column has\n",
        "print('Number of null values:')\n",
        "df.isna().sum()"
      ]
    },
    {
      "cell_type": "code",
      "execution_count": null,
      "metadata": {
        "colab": {
          "base_uri": "https://localhost:8080/"
        },
        "id": "Zh6leoc_aRhF",
        "outputId": "ad7a358e-61da-41b4-8aed-b42ddc56c465"
      },
      "outputs": [
        {
          "data": {
            "text/plain": [
              "False    25000095\n",
              "dtype: int64"
            ]
          },
          "execution_count": 7,
          "metadata": {},
          "output_type": "execute_result"
        }
      ],
      "source": [
        "#count duplicate values. The dataframe has no duplicates.\n",
        "bool_series = df.duplicated()\n",
        "bool_series.value_counts()"
      ]
    },
    {
      "cell_type": "markdown",
      "metadata": {
        "id": "L0tGbrkbyIB7"
      },
      "source": [
        "Also we can see that some movies have quite strange names, e.g., Rock, The (1996) and Aristocrats, The (2005). It's needed to process the column names and remove 'The'."
      ]
    },
    {
      "cell_type": "code",
      "execution_count": null,
      "metadata": {
        "colab": {
          "base_uri": "https://localhost:8080/",
          "height": 361
        },
        "id": "wbgghEEfyHAa",
        "outputId": "e9997750-a988-44e9-a8ba-cdee2927f557"
      },
      "outputs": [
        {
          "data": {
            "text/html": [
              "\n",
              "  <div id=\"df-e989e41c-b6b5-451d-a3a6-d9079d609c38\">\n",
              "    <div class=\"colab-df-container\">\n",
              "      <div>\n",
              "<style scoped>\n",
              "    .dataframe tbody tr th:only-of-type {\n",
              "        vertical-align: middle;\n",
              "    }\n",
              "\n",
              "    .dataframe tbody tr th {\n",
              "        vertical-align: top;\n",
              "    }\n",
              "\n",
              "    .dataframe thead th {\n",
              "        text-align: right;\n",
              "    }\n",
              "</style>\n",
              "<table border=\"1\" class=\"dataframe\">\n",
              "  <thead>\n",
              "    <tr style=\"text-align: right;\">\n",
              "      <th></th>\n",
              "      <th>movieId</th>\n",
              "      <th>title</th>\n",
              "      <th>genres</th>\n",
              "      <th>userId</th>\n",
              "      <th>rating</th>\n",
              "      <th>timestamp</th>\n",
              "    </tr>\n",
              "  </thead>\n",
              "  <tbody>\n",
              "    <tr>\n",
              "      <th>7743253</th>\n",
              "      <td>1359</td>\n",
              "      <td>Jingle All the Way (1996)</td>\n",
              "      <td>Children|Comedy</td>\n",
              "      <td>76770</td>\n",
              "      <td>1.0</td>\n",
              "      <td>1028581731</td>\n",
              "    </tr>\n",
              "    <tr>\n",
              "      <th>9862939</th>\n",
              "      <td>2028</td>\n",
              "      <td>Saving Private Ryan (1998)</td>\n",
              "      <td>Action|Drama|War</td>\n",
              "      <td>122300</td>\n",
              "      <td>0.5</td>\n",
              "      <td>1237340274</td>\n",
              "    </tr>\n",
              "    <tr>\n",
              "      <th>6342659</th>\n",
              "      <td>1198</td>\n",
              "      <td>Raiders of the Lost Ark (Indiana Jones and the...</td>\n",
              "      <td>Action|Adventure</td>\n",
              "      <td>162023</td>\n",
              "      <td>0.5</td>\n",
              "      <td>1450643936</td>\n",
              "    </tr>\n",
              "  </tbody>\n",
              "</table>\n",
              "</div>\n",
              "      <button class=\"colab-df-convert\" onclick=\"convertToInteractive('df-e989e41c-b6b5-451d-a3a6-d9079d609c38')\"\n",
              "              title=\"Convert this dataframe to an interactive table.\"\n",
              "              style=\"display:none;\">\n",
              "        \n",
              "  <svg xmlns=\"http://www.w3.org/2000/svg\" height=\"24px\"viewBox=\"0 0 24 24\"\n",
              "       width=\"24px\">\n",
              "    <path d=\"M0 0h24v24H0V0z\" fill=\"none\"/>\n",
              "    <path d=\"M18.56 5.44l.94 2.06.94-2.06 2.06-.94-2.06-.94-.94-2.06-.94 2.06-2.06.94zm-11 1L8.5 8.5l.94-2.06 2.06-.94-2.06-.94L8.5 2.5l-.94 2.06-2.06.94zm10 10l.94 2.06.94-2.06 2.06-.94-2.06-.94-.94-2.06-.94 2.06-2.06.94z\"/><path d=\"M17.41 7.96l-1.37-1.37c-.4-.4-.92-.59-1.43-.59-.52 0-1.04.2-1.43.59L10.3 9.45l-7.72 7.72c-.78.78-.78 2.05 0 2.83L4 21.41c.39.39.9.59 1.41.59.51 0 1.02-.2 1.41-.59l7.78-7.78 2.81-2.81c.8-.78.8-2.07 0-2.86zM5.41 20L4 18.59l7.72-7.72 1.47 1.35L5.41 20z\"/>\n",
              "  </svg>\n",
              "      </button>\n",
              "      \n",
              "  <style>\n",
              "    .colab-df-container {\n",
              "      display:flex;\n",
              "      flex-wrap:wrap;\n",
              "      gap: 12px;\n",
              "    }\n",
              "\n",
              "    .colab-df-convert {\n",
              "      background-color: #E8F0FE;\n",
              "      border: none;\n",
              "      border-radius: 50%;\n",
              "      cursor: pointer;\n",
              "      display: none;\n",
              "      fill: #1967D2;\n",
              "      height: 32px;\n",
              "      padding: 0 0 0 0;\n",
              "      width: 32px;\n",
              "    }\n",
              "\n",
              "    .colab-df-convert:hover {\n",
              "      background-color: #E2EBFA;\n",
              "      box-shadow: 0px 1px 2px rgba(60, 64, 67, 0.3), 0px 1px 3px 1px rgba(60, 64, 67, 0.15);\n",
              "      fill: #174EA6;\n",
              "    }\n",
              "\n",
              "    [theme=dark] .colab-df-convert {\n",
              "      background-color: #3B4455;\n",
              "      fill: #D2E3FC;\n",
              "    }\n",
              "\n",
              "    [theme=dark] .colab-df-convert:hover {\n",
              "      background-color: #434B5C;\n",
              "      box-shadow: 0px 1px 3px 1px rgba(0, 0, 0, 0.15);\n",
              "      filter: drop-shadow(0px 1px 2px rgba(0, 0, 0, 0.3));\n",
              "      fill: #FFFFFF;\n",
              "    }\n",
              "  </style>\n",
              "\n",
              "      <script>\n",
              "        const buttonEl =\n",
              "          document.querySelector('#df-e989e41c-b6b5-451d-a3a6-d9079d609c38 button.colab-df-convert');\n",
              "        buttonEl.style.display =\n",
              "          google.colab.kernel.accessAllowed ? 'block' : 'none';\n",
              "\n",
              "        async function convertToInteractive(key) {\n",
              "          const element = document.querySelector('#df-e989e41c-b6b5-451d-a3a6-d9079d609c38');\n",
              "          const dataTable =\n",
              "            await google.colab.kernel.invokeFunction('convertToInteractive',\n",
              "                                                     [key], {});\n",
              "          if (!dataTable) return;\n",
              "\n",
              "          const docLinkHtml = 'Like what you see? Visit the ' +\n",
              "            '<a target=\"_blank\" href=https://colab.research.google.com/notebooks/data_table.ipynb>data table notebook</a>'\n",
              "            + ' to learn more about interactive tables.';\n",
              "          element.innerHTML = '';\n",
              "          dataTable['output_type'] = 'display_data';\n",
              "          await google.colab.output.renderOutput(dataTable, element);\n",
              "          const docLink = document.createElement('div');\n",
              "          docLink.innerHTML = docLinkHtml;\n",
              "          element.appendChild(docLink);\n",
              "        }\n",
              "      </script>\n",
              "    </div>\n",
              "  </div>\n",
              "  "
            ],
            "text/plain": [
              "         movieId                                              title  \\\n",
              "7743253     1359                          Jingle All the Way (1996)   \n",
              "9862939     2028                         Saving Private Ryan (1998)   \n",
              "6342659     1198  Raiders of the Lost Ark (Indiana Jones and the...   \n",
              "\n",
              "                   genres  userId  rating   timestamp  \n",
              "7743253   Children|Comedy   76770     1.0  1028581731  \n",
              "9862939  Action|Drama|War  122300     0.5  1237340274  \n",
              "6342659  Action|Adventure  162023     0.5  1450643936  "
            ]
          },
          "execution_count": 9,
          "metadata": {},
          "output_type": "execute_result"
        }
      ],
      "source": [
        "#apply the function to df\n",
        "df.title = df.title.map(lambda x: x.replace(', The', ''))\n",
        "df.sample(3)"
      ]
    },
    {
      "cell_type": "markdown",
      "metadata": {
        "id": "eTCfD6_DFTld"
      },
      "source": [
        "Let's calculate number of users and number of items in the united dataframe. We can see that number of users exceeds the number of items. That's why using item-based filtering is more appropriate."
      ]
    },
    {
      "cell_type": "code",
      "execution_count": null,
      "metadata": {
        "colab": {
          "base_uri": "https://localhost:8080/"
        },
        "id": "V7HDb9xCbVlm",
        "outputId": "7cf72fb8-ee78-4293-c14c-85ceeeb0574f"
      },
      "outputs": [
        {
          "name": "stdout",
          "output_type": "stream",
          "text": [
            "Number of items is: 59047\n",
            "Number of users is: 162541\n"
          ]
        }
      ],
      "source": [
        "#display number of items and users\n",
        "print(f'Number of items is: {len(df.movieId.unique())}')\n",
        "print(f'Number of users is: {len(df.userId.unique())}')"
      ]
    },
    {
      "cell_type": "markdown",
      "metadata": {
        "id": "2XKP23hUK3Xw"
      },
      "source": [
        "Next step is to transform the current dataframe to a table used for ratings estimation: columns - users, rows - movies. For this purpose we'll use pivot table. However, during the implementation I realised that my computer has not enough RAM to process 59047x162541 table. To solve this problem, dimentionality reduction echniques such as matrix factorization can be used but for easier illustration I decided to filter the initial dataframe. New dataframe will consist of movies that were seen by at least 1000 users and users that watched at least 500 movies."
      ]
    },
    {
      "cell_type": "code",
      "execution_count": null,
      "metadata": {
        "colab": {
          "base_uri": "https://localhost:8080/"
        },
        "id": "XbeAzoqcuTdz",
        "outputId": "b5cc73ad-b373-4385-d514-e994ae75dbf2"
      },
      "outputs": [
        {
          "name": "stdout",
          "output_type": "stream",
          "text": [
            "(3794, 2)\n",
            "(9713, 2)\n"
          ]
        }
      ],
      "source": [
        "#create a dataframe that groups movies by number of users that watched it\n",
        "move_group = df.groupby('title').agg({'userId': 'count'})\n",
        "#filter the created dataframe - save only rown which satisfy the criteria above\n",
        "move = move_group[move_group.userId >=1000].reset_index()\n",
        "#display the filtered dataframe's shape\n",
        "print(move.shape)\n",
        "\n",
        "#create a dataframe that groups users by number of movies that they watched\n",
        "user_group = df.groupby('userId').agg({'title': 'count'})\n",
        "#filter the created dataframe - save only rown which satisfy the criteria above\n",
        "user = user_group[user_group.title >=500].reset_index()\n",
        "#display the filtered dataframe's shape\n",
        "print(user.shape)\n"
      ]
    },
    {
      "cell_type": "code",
      "execution_count": null,
      "metadata": {
        "colab": {
          "base_uri": "https://localhost:8080/",
          "height": 329
        },
        "id": "KIaSmQwtlwFc",
        "outputId": "ea3a9e41-4eaf-4d19-907e-83aff016be33"
      },
      "outputs": [
        {
          "name": "stdout",
          "output_type": "stream",
          "text": [
            "(7128241, 6)\n"
          ]
        },
        {
          "data": {
            "text/html": [
              "\n",
              "  <div id=\"df-a4a52afa-6468-4b24-af30-182504f99aaa\">\n",
              "    <div class=\"colab-df-container\">\n",
              "      <div>\n",
              "<style scoped>\n",
              "    .dataframe tbody tr th:only-of-type {\n",
              "        vertical-align: middle;\n",
              "    }\n",
              "\n",
              "    .dataframe tbody tr th {\n",
              "        vertical-align: top;\n",
              "    }\n",
              "\n",
              "    .dataframe thead th {\n",
              "        text-align: right;\n",
              "    }\n",
              "</style>\n",
              "<table border=\"1\" class=\"dataframe\">\n",
              "  <thead>\n",
              "    <tr style=\"text-align: right;\">\n",
              "      <th></th>\n",
              "      <th>movieId</th>\n",
              "      <th>title</th>\n",
              "      <th>genres</th>\n",
              "      <th>userId</th>\n",
              "      <th>rating</th>\n",
              "      <th>timestamp</th>\n",
              "    </tr>\n",
              "  </thead>\n",
              "  <tbody>\n",
              "    <tr>\n",
              "      <th>1</th>\n",
              "      <td>1</td>\n",
              "      <td>Toy Story (1995)</td>\n",
              "      <td>Adventure|Animation|Children|Comedy|Fantasy</td>\n",
              "      <td>3</td>\n",
              "      <td>4.0</td>\n",
              "      <td>1439472215</td>\n",
              "    </tr>\n",
              "    <tr>\n",
              "      <th>6</th>\n",
              "      <td>1</td>\n",
              "      <td>Toy Story (1995)</td>\n",
              "      <td>Adventure|Animation|Children|Comedy|Fantasy</td>\n",
              "      <td>12</td>\n",
              "      <td>4.0</td>\n",
              "      <td>1167582601</td>\n",
              "    </tr>\n",
              "    <tr>\n",
              "      <th>35</th>\n",
              "      <td>1</td>\n",
              "      <td>Toy Story (1995)</td>\n",
              "      <td>Adventure|Animation|Children|Comedy|Fantasy</td>\n",
              "      <td>120</td>\n",
              "      <td>5.0</td>\n",
              "      <td>956264593</td>\n",
              "    </tr>\n",
              "  </tbody>\n",
              "</table>\n",
              "</div>\n",
              "      <button class=\"colab-df-convert\" onclick=\"convertToInteractive('df-a4a52afa-6468-4b24-af30-182504f99aaa')\"\n",
              "              title=\"Convert this dataframe to an interactive table.\"\n",
              "              style=\"display:none;\">\n",
              "        \n",
              "  <svg xmlns=\"http://www.w3.org/2000/svg\" height=\"24px\"viewBox=\"0 0 24 24\"\n",
              "       width=\"24px\">\n",
              "    <path d=\"M0 0h24v24H0V0z\" fill=\"none\"/>\n",
              "    <path d=\"M18.56 5.44l.94 2.06.94-2.06 2.06-.94-2.06-.94-.94-2.06-.94 2.06-2.06.94zm-11 1L8.5 8.5l.94-2.06 2.06-.94-2.06-.94L8.5 2.5l-.94 2.06-2.06.94zm10 10l.94 2.06.94-2.06 2.06-.94-2.06-.94-.94-2.06-.94 2.06-2.06.94z\"/><path d=\"M17.41 7.96l-1.37-1.37c-.4-.4-.92-.59-1.43-.59-.52 0-1.04.2-1.43.59L10.3 9.45l-7.72 7.72c-.78.78-.78 2.05 0 2.83L4 21.41c.39.39.9.59 1.41.59.51 0 1.02-.2 1.41-.59l7.78-7.78 2.81-2.81c.8-.78.8-2.07 0-2.86zM5.41 20L4 18.59l7.72-7.72 1.47 1.35L5.41 20z\"/>\n",
              "  </svg>\n",
              "      </button>\n",
              "      \n",
              "  <style>\n",
              "    .colab-df-container {\n",
              "      display:flex;\n",
              "      flex-wrap:wrap;\n",
              "      gap: 12px;\n",
              "    }\n",
              "\n",
              "    .colab-df-convert {\n",
              "      background-color: #E8F0FE;\n",
              "      border: none;\n",
              "      border-radius: 50%;\n",
              "      cursor: pointer;\n",
              "      display: none;\n",
              "      fill: #1967D2;\n",
              "      height: 32px;\n",
              "      padding: 0 0 0 0;\n",
              "      width: 32px;\n",
              "    }\n",
              "\n",
              "    .colab-df-convert:hover {\n",
              "      background-color: #E2EBFA;\n",
              "      box-shadow: 0px 1px 2px rgba(60, 64, 67, 0.3), 0px 1px 3px 1px rgba(60, 64, 67, 0.15);\n",
              "      fill: #174EA6;\n",
              "    }\n",
              "\n",
              "    [theme=dark] .colab-df-convert {\n",
              "      background-color: #3B4455;\n",
              "      fill: #D2E3FC;\n",
              "    }\n",
              "\n",
              "    [theme=dark] .colab-df-convert:hover {\n",
              "      background-color: #434B5C;\n",
              "      box-shadow: 0px 1px 3px 1px rgba(0, 0, 0, 0.15);\n",
              "      filter: drop-shadow(0px 1px 2px rgba(0, 0, 0, 0.3));\n",
              "      fill: #FFFFFF;\n",
              "    }\n",
              "  </style>\n",
              "\n",
              "      <script>\n",
              "        const buttonEl =\n",
              "          document.querySelector('#df-a4a52afa-6468-4b24-af30-182504f99aaa button.colab-df-convert');\n",
              "        buttonEl.style.display =\n",
              "          google.colab.kernel.accessAllowed ? 'block' : 'none';\n",
              "\n",
              "        async function convertToInteractive(key) {\n",
              "          const element = document.querySelector('#df-a4a52afa-6468-4b24-af30-182504f99aaa');\n",
              "          const dataTable =\n",
              "            await google.colab.kernel.invokeFunction('convertToInteractive',\n",
              "                                                     [key], {});\n",
              "          if (!dataTable) return;\n",
              "\n",
              "          const docLinkHtml = 'Like what you see? Visit the ' +\n",
              "            '<a target=\"_blank\" href=https://colab.research.google.com/notebooks/data_table.ipynb>data table notebook</a>'\n",
              "            + ' to learn more about interactive tables.';\n",
              "          element.innerHTML = '';\n",
              "          dataTable['output_type'] = 'display_data';\n",
              "          await google.colab.output.renderOutput(dataTable, element);\n",
              "          const docLink = document.createElement('div');\n",
              "          docLink.innerHTML = docLinkHtml;\n",
              "          element.appendChild(docLink);\n",
              "        }\n",
              "      </script>\n",
              "    </div>\n",
              "  </div>\n",
              "  "
            ],
            "text/plain": [
              "    movieId             title                                       genres  \\\n",
              "1         1  Toy Story (1995)  Adventure|Animation|Children|Comedy|Fantasy   \n",
              "6         1  Toy Story (1995)  Adventure|Animation|Children|Comedy|Fantasy   \n",
              "35        1  Toy Story (1995)  Adventure|Animation|Children|Comedy|Fantasy   \n",
              "\n",
              "    userId  rating   timestamp  \n",
              "1        3     4.0  1439472215  \n",
              "6       12     4.0  1167582601  \n",
              "35     120     5.0   956264593  "
            ]
          },
          "execution_count": 12,
          "metadata": {},
          "output_type": "execute_result"
        }
      ],
      "source": [
        "#filter the initial dataframe by movie title and user id.\n",
        "df_move = df[(df['title'].isin(move.title)) & (df['userId'].isin(user.userId))]\n",
        "print(df_move.shape)\n",
        "df_move.head(3)"
      ]
    },
    {
      "cell_type": "markdown",
      "metadata": {
        "id": "wuCa6OmGfJbS"
      },
      "source": [
        "Regarding shape of the new dataframe we can see that number of rows is reduced from 25M to 7M and it's enough RAM to create the pivot table. "
      ]
    },
    {
      "cell_type": "code",
      "execution_count": null,
      "metadata": {
        "colab": {
          "base_uri": "https://localhost:8080/",
          "height": 421
        },
        "id": "HZzvy9BLgoXZ",
        "outputId": "69760794-c89b-483f-cfba-aac5914ed696"
      },
      "outputs": [
        {
          "data": {
            "text/html": [
              "\n",
              "  <div id=\"df-36b2b5b0-6f10-425b-b3f1-e377bc894d6f\">\n",
              "    <div class=\"colab-df-container\">\n",
              "      <div>\n",
              "<style scoped>\n",
              "    .dataframe tbody tr th:only-of-type {\n",
              "        vertical-align: middle;\n",
              "    }\n",
              "\n",
              "    .dataframe tbody tr th {\n",
              "        vertical-align: top;\n",
              "    }\n",
              "\n",
              "    .dataframe thead tr th {\n",
              "        text-align: left;\n",
              "    }\n",
              "\n",
              "    .dataframe thead tr:last-of-type th {\n",
              "        text-align: right;\n",
              "    }\n",
              "</style>\n",
              "<table border=\"1\" class=\"dataframe\">\n",
              "  <thead>\n",
              "    <tr>\n",
              "      <th></th>\n",
              "      <th colspan=\"21\" halign=\"left\">rating</th>\n",
              "    </tr>\n",
              "    <tr>\n",
              "      <th>userId</th>\n",
              "      <th>3</th>\n",
              "      <th>12</th>\n",
              "      <th>72</th>\n",
              "      <th>80</th>\n",
              "      <th>120</th>\n",
              "      <th>166</th>\n",
              "      <th>171</th>\n",
              "      <th>175</th>\n",
              "      <th>181</th>\n",
              "      <th>187</th>\n",
              "      <th>...</th>\n",
              "      <th>162386</th>\n",
              "      <th>162387</th>\n",
              "      <th>162394</th>\n",
              "      <th>162445</th>\n",
              "      <th>162481</th>\n",
              "      <th>162484</th>\n",
              "      <th>162495</th>\n",
              "      <th>162508</th>\n",
              "      <th>162516</th>\n",
              "      <th>162519</th>\n",
              "    </tr>\n",
              "    <tr>\n",
              "      <th>title</th>\n",
              "      <th></th>\n",
              "      <th></th>\n",
              "      <th></th>\n",
              "      <th></th>\n",
              "      <th></th>\n",
              "      <th></th>\n",
              "      <th></th>\n",
              "      <th></th>\n",
              "      <th></th>\n",
              "      <th></th>\n",
              "      <th></th>\n",
              "      <th></th>\n",
              "      <th></th>\n",
              "      <th></th>\n",
              "      <th></th>\n",
              "      <th></th>\n",
              "      <th></th>\n",
              "      <th></th>\n",
              "      <th></th>\n",
              "      <th></th>\n",
              "      <th></th>\n",
              "    </tr>\n",
              "  </thead>\n",
              "  <tbody>\n",
              "    <tr>\n",
              "      <th>'burbs (1989)</th>\n",
              "      <td>0.0</td>\n",
              "      <td>0.0</td>\n",
              "      <td>3</td>\n",
              "      <td>0</td>\n",
              "      <td>0</td>\n",
              "      <td>0</td>\n",
              "      <td>0.0</td>\n",
              "      <td>0</td>\n",
              "      <td>0.0</td>\n",
              "      <td>0.0</td>\n",
              "      <td>...</td>\n",
              "      <td>0.0</td>\n",
              "      <td>0.0</td>\n",
              "      <td>0.0</td>\n",
              "      <td>0.0</td>\n",
              "      <td>0.0</td>\n",
              "      <td>0.0</td>\n",
              "      <td>3.5</td>\n",
              "      <td>0.0</td>\n",
              "      <td>0.0</td>\n",
              "      <td>0</td>\n",
              "    </tr>\n",
              "    <tr>\n",
              "      <th>(500) Days of Summer (2009)</th>\n",
              "      <td>0.0</td>\n",
              "      <td>3.0</td>\n",
              "      <td>0</td>\n",
              "      <td>0</td>\n",
              "      <td>0</td>\n",
              "      <td>0</td>\n",
              "      <td>0.0</td>\n",
              "      <td>0</td>\n",
              "      <td>0.0</td>\n",
              "      <td>4.0</td>\n",
              "      <td>...</td>\n",
              "      <td>4.5</td>\n",
              "      <td>0.0</td>\n",
              "      <td>2.0</td>\n",
              "      <td>0.0</td>\n",
              "      <td>0.0</td>\n",
              "      <td>0.0</td>\n",
              "      <td>0.0</td>\n",
              "      <td>2.5</td>\n",
              "      <td>4.0</td>\n",
              "      <td>0</td>\n",
              "    </tr>\n",
              "    <tr>\n",
              "      <th>*batteries not included (1987)</th>\n",
              "      <td>0.0</td>\n",
              "      <td>0.0</td>\n",
              "      <td>0</td>\n",
              "      <td>0</td>\n",
              "      <td>0</td>\n",
              "      <td>0</td>\n",
              "      <td>0.0</td>\n",
              "      <td>0</td>\n",
              "      <td>0.0</td>\n",
              "      <td>0.0</td>\n",
              "      <td>...</td>\n",
              "      <td>0.0</td>\n",
              "      <td>0.0</td>\n",
              "      <td>0.0</td>\n",
              "      <td>0.0</td>\n",
              "      <td>3.5</td>\n",
              "      <td>0.0</td>\n",
              "      <td>3.5</td>\n",
              "      <td>0.0</td>\n",
              "      <td>3.0</td>\n",
              "      <td>0</td>\n",
              "    </tr>\n",
              "  </tbody>\n",
              "</table>\n",
              "<p>3 rows × 9713 columns</p>\n",
              "</div>\n",
              "      <button class=\"colab-df-convert\" onclick=\"convertToInteractive('df-36b2b5b0-6f10-425b-b3f1-e377bc894d6f')\"\n",
              "              title=\"Convert this dataframe to an interactive table.\"\n",
              "              style=\"display:none;\">\n",
              "        \n",
              "  <svg xmlns=\"http://www.w3.org/2000/svg\" height=\"24px\"viewBox=\"0 0 24 24\"\n",
              "       width=\"24px\">\n",
              "    <path d=\"M0 0h24v24H0V0z\" fill=\"none\"/>\n",
              "    <path d=\"M18.56 5.44l.94 2.06.94-2.06 2.06-.94-2.06-.94-.94-2.06-.94 2.06-2.06.94zm-11 1L8.5 8.5l.94-2.06 2.06-.94-2.06-.94L8.5 2.5l-.94 2.06-2.06.94zm10 10l.94 2.06.94-2.06 2.06-.94-2.06-.94-.94-2.06-.94 2.06-2.06.94z\"/><path d=\"M17.41 7.96l-1.37-1.37c-.4-.4-.92-.59-1.43-.59-.52 0-1.04.2-1.43.59L10.3 9.45l-7.72 7.72c-.78.78-.78 2.05 0 2.83L4 21.41c.39.39.9.59 1.41.59.51 0 1.02-.2 1.41-.59l7.78-7.78 2.81-2.81c.8-.78.8-2.07 0-2.86zM5.41 20L4 18.59l7.72-7.72 1.47 1.35L5.41 20z\"/>\n",
              "  </svg>\n",
              "      </button>\n",
              "      \n",
              "  <style>\n",
              "    .colab-df-container {\n",
              "      display:flex;\n",
              "      flex-wrap:wrap;\n",
              "      gap: 12px;\n",
              "    }\n",
              "\n",
              "    .colab-df-convert {\n",
              "      background-color: #E8F0FE;\n",
              "      border: none;\n",
              "      border-radius: 50%;\n",
              "      cursor: pointer;\n",
              "      display: none;\n",
              "      fill: #1967D2;\n",
              "      height: 32px;\n",
              "      padding: 0 0 0 0;\n",
              "      width: 32px;\n",
              "    }\n",
              "\n",
              "    .colab-df-convert:hover {\n",
              "      background-color: #E2EBFA;\n",
              "      box-shadow: 0px 1px 2px rgba(60, 64, 67, 0.3), 0px 1px 3px 1px rgba(60, 64, 67, 0.15);\n",
              "      fill: #174EA6;\n",
              "    }\n",
              "\n",
              "    [theme=dark] .colab-df-convert {\n",
              "      background-color: #3B4455;\n",
              "      fill: #D2E3FC;\n",
              "    }\n",
              "\n",
              "    [theme=dark] .colab-df-convert:hover {\n",
              "      background-color: #434B5C;\n",
              "      box-shadow: 0px 1px 3px 1px rgba(0, 0, 0, 0.15);\n",
              "      filter: drop-shadow(0px 1px 2px rgba(0, 0, 0, 0.3));\n",
              "      fill: #FFFFFF;\n",
              "    }\n",
              "  </style>\n",
              "\n",
              "      <script>\n",
              "        const buttonEl =\n",
              "          document.querySelector('#df-36b2b5b0-6f10-425b-b3f1-e377bc894d6f button.colab-df-convert');\n",
              "        buttonEl.style.display =\n",
              "          google.colab.kernel.accessAllowed ? 'block' : 'none';\n",
              "\n",
              "        async function convertToInteractive(key) {\n",
              "          const element = document.querySelector('#df-36b2b5b0-6f10-425b-b3f1-e377bc894d6f');\n",
              "          const dataTable =\n",
              "            await google.colab.kernel.invokeFunction('convertToInteractive',\n",
              "                                                     [key], {});\n",
              "          if (!dataTable) return;\n",
              "\n",
              "          const docLinkHtml = 'Like what you see? Visit the ' +\n",
              "            '<a target=\"_blank\" href=https://colab.research.google.com/notebooks/data_table.ipynb>data table notebook</a>'\n",
              "            + ' to learn more about interactive tables.';\n",
              "          element.innerHTML = '';\n",
              "          dataTable['output_type'] = 'display_data';\n",
              "          await google.colab.output.renderOutput(dataTable, element);\n",
              "          const docLink = document.createElement('div');\n",
              "          docLink.innerHTML = docLinkHtml;\n",
              "          element.appendChild(docLink);\n",
              "        }\n",
              "      </script>\n",
              "    </div>\n",
              "  </div>\n",
              "  "
            ],
            "text/plain": [
              "                               rating                                     \\\n",
              "userId                         3      12     72     80     120    166      \n",
              "title                                                                      \n",
              "'burbs (1989)                     0.0    0.0      3      0      0      0   \n",
              "(500) Days of Summer (2009)       0.0    3.0      0      0      0      0   \n",
              "*batteries not included (1987)    0.0    0.0      0      0      0      0   \n",
              "\n",
              "                                                            ...                \\\n",
              "userId                         171    175    181    187     ... 162386 162387   \n",
              "title                                                       ...                 \n",
              "'burbs (1989)                     0.0      0    0.0    0.0  ...    0.0    0.0   \n",
              "(500) Days of Summer (2009)       0.0      0    0.0    4.0  ...    4.5    0.0   \n",
              "*batteries not included (1987)    0.0      0    0.0    0.0  ...    0.0    0.0   \n",
              "\n",
              "                                                                          \\\n",
              "userId                         162394 162445 162481 162484 162495 162508   \n",
              "title                                                                      \n",
              "'burbs (1989)                     0.0    0.0    0.0    0.0    3.5    0.0   \n",
              "(500) Days of Summer (2009)       2.0    0.0    0.0    0.0    0.0    2.5   \n",
              "*batteries not included (1987)    0.0    0.0    3.5    0.0    3.5    0.0   \n",
              "\n",
              "                                              \n",
              "userId                         162516 162519  \n",
              "title                                         \n",
              "'burbs (1989)                     0.0      0  \n",
              "(500) Days of Summer (2009)       4.0      0  \n",
              "*batteries not included (1987)    3.0      0  \n",
              "\n",
              "[3 rows x 9713 columns]"
            ]
          },
          "execution_count": 13,
          "metadata": {},
          "output_type": "execute_result"
        }
      ],
      "source": [
        "pivot = pd.pivot_table(df_move, values=['rating'], index=['title'], columns=['userId'], fill_value = 0)\n",
        "pivot.head(3)"
      ]
    },
    {
      "cell_type": "markdown",
      "metadata": {
        "id": "2PEiy_Q0iJnr"
      },
      "source": [
        "We created pivot table with ratings and we're ready to use KNN algorithm.We need to create a KNN object, where metric of similarity is a cosine similarity, algorithm used - brute-force search. Brute-forced search is an algorithm that enumerates all possible options and picks those that satisfy the criteria the most. I set number of closest neighbors equal to 6. This number includes an analyzed object itself, so 5 nearest movies will be shown."
      ]
    },
    {
      "cell_type": "code",
      "execution_count": null,
      "metadata": {
        "colab": {
          "base_uri": "https://localhost:8080/"
        },
        "id": "8rUUNtQOpVbI",
        "outputId": "0c1e397f-d624-4587-e58e-1cf966900fac"
      },
      "outputs": [
        {
          "data": {
            "text/plain": [
              "array([[   0, 2238,  661, 2926, 3793,  705],\n",
              "       [   1, 1662, 1798, 3086, 1677,  819],\n",
              "       [   2, 3003, 1915, 1190, 1681, 3004],\n",
              "       ...,\n",
              "       [3791, 1134, 1902,  418, 2168, 2136],\n",
              "       [3792, 3791, 3489,   21,  421, 1135],\n",
              "       [3793, 1187, 3113,  374, 1148, 1317]])"
            ]
          },
          "execution_count": 14,
          "metadata": {},
          "output_type": "execute_result"
        }
      ],
      "source": [
        "#import module\n",
        "from sklearn.neighbors import NearestNeighbors\n",
        "#create KNN class object\n",
        "knn = NearestNeighbors(metric='cosine', algorithm='brute')\n",
        "#fit the model to our data\n",
        "knn.fit(pivot.values)\n",
        "#dispaly movie indices and corresponding values of cosine similarity\n",
        "distances, indices = knn.kneighbors(pivot.values, n_neighbors=6)\n",
        "indices\n",
        "        "
      ]
    },
    {
      "cell_type": "markdown",
      "metadata": {
        "id": "uS4zDjEWv82V"
      },
      "source": [
        "After running, the algorithm shows indices of five closest movies for each of 3793 movies in the dataframe. For example, movie with title 'burbs, The (1989)' has index 0 and we need to look at the first list in the array. We can see that the closest movies to 'burbs, The (1989)' have indices 2238,  661, 2926, 3793 and 705. The similar interpretation is for all the rest movies. Since we have found the indices of the closest movies, we're able to display their names to present information received in more convenient form. For this purpose I define a function that searches and displays movies titles by their index."
      ]
    },
    {
      "cell_type": "code",
      "execution_count": null,
      "metadata": {
        "id": "0rxrnvWdyoYQ"
      },
      "outputs": [],
      "source": [
        "def show_closest():\n",
        "  movie = input('Please enter a movie name: ') \n",
        "  #find index of movie in the data set \n",
        "  index_for_movie = pivot.index.tolist().index(movie)\n",
        "  # find the indices for the similar movies\n",
        "  sim_movies = indices[index_for_movie].tolist()\n",
        "  #find corresponding movies titles by indices\n",
        "  names = [pivot.index[item] for item in sim_movies]\n",
        "  # find distances between the chosen movie and the similar movies\n",
        "  movie_distances = distances[index_for_movie].tolist()\n",
        "  #round the numbers\n",
        "  movie_distances = [str(round(item,2)) for item in movie_distances]\n",
        "  #define a separator\n",
        "  nl = '\\n'\n",
        "  #display moves titles and distances\n",
        "  print(f'\\nThe nearest movies to {names[0]}:\\n{nl.join(names[1:])}\\n')\n",
        "  print(f'The distance from {names[0]}: {\", \".join(movie_distances[1:])}')"
      ]
    },
    {
      "cell_type": "markdown",
      "metadata": {
        "id": "nPfWkmCm1-3f"
      },
      "source": [
        "Let's pick some movie from the dataframe and find out that movies are considered to be the nearest to it."
      ]
    },
    {
      "cell_type": "code",
      "execution_count": null,
      "metadata": {
        "colab": {
          "base_uri": "https://localhost:8080/"
        },
        "id": "nScp0Wvg0HgS",
        "outputId": "307d5c13-6bd6-47ad-b187-1692d28470a8"
      },
      "outputs": [
        {
          "name": "stdout",
          "output_type": "stream",
          "text": [
            "Please enter a movie name: (500) Days of Summer (2009)\n",
            "\n",
            "The nearest movies to (500) Days of Summer (2009):\n",
            "Inception (2010)\n",
            "Juno (2007)\n",
            "Social Network (2010)\n",
            "Inglourious Basterds (2009)\n",
            "Dark Knight (2008)\n",
            "\n",
            "The distance from (500) Days of Summer (2009): 0.33, 0.33, 0.34, 0.35, 0.35\n"
          ]
        }
      ],
      "source": [
        "show_closest()"
      ]
    },
    {
      "cell_type": "markdown",
      "metadata": {
        "id": "zkflXaseZh8H"
      },
      "source": [
        "The result of the function is a list of the nearest movies and their corresponding distances. It could be useful to add information about genres and filter proposed movies by genres. It's needed to find out what genre an input movie has and filter the dataframe by specific genres. I propose two types of genres filtering: strict filtering and soft filtering. Strict means that the nearest movies should have exactly the same genre the input movie has. Soft means that genres of the nearest movies should cointain specified part of the input movie genre. Let's add some code to the existing function."
      ]
    },
    {
      "cell_type": "code",
      "execution_count": null,
      "metadata": {
        "id": "qdlQhxvWzdX-"
      },
      "outputs": [],
      "source": [
        "#define a function with strict filtering\n",
        "def show_closest_movies_genre_strict(movie):\n",
        "    #find the input movie genre in the dataframe\n",
        "    genre = ''.join(df[df.title == movie].genres.unique())\n",
        "    print(f\"Movie genre is: {genre}\")\n",
        "    #create a dataframe, filtered by genre\n",
        "    filter_genre = df_move[df_move['genres'] == genre]\n",
        "    #create a pivot table based on filtered dataframe\n",
        "    pivot = pd.pivot_table(filter_genre, values=['rating'], index=['title'], columns=['userId'], fill_value = 0)\n",
        "    #create condition - check that number of nearest movies is more or equal to number of K nearest neighbors\n",
        "    if len(filter_genre.title.unique()) >= 6:  \n",
        "        knn = NearestNeighbors(metric='cosine', algorithm='brute')\n",
        "        knn.fit(pivot.values)\n",
        "        distances, indices = knn.kneighbors(pivot.values, n_neighbors=6)\n",
        "        index_for_movie = pivot.index.tolist().index(movie)\n",
        "        sim_movies = indices[index_for_movie].tolist()\n",
        "        names = [pivot.index[item] for item in sim_movies]\n",
        "        #create a list of the nearest movies genres\n",
        "        genres_film = [''.join(filter_genre[filter_genre.title == item].genres.unique()) for item in names]\n",
        "        #create a list of movies names and their genres\n",
        "        names_genres = [', '.join(list(i)) for i in list(zip(names, genres_film))]\n",
        "        movie_distances = distances[index_for_movie].tolist()\n",
        "        movie_distances = [str(round(item,2)) for item in movie_distances]\n",
        "        id_movie = sim_movies.index(index_for_movie)\n",
        "        sim_movies.remove(index_for_movie)\n",
        "        movie_distances.pop(id_movie)\n",
        "        nl = '\\n'\n",
        "        #display movies names and genres\n",
        "        print(f'\\nThe Nearest Movies to {names[0]}:\\n{nl.join(names_genres[1:])}\\n')\n",
        "        print(f'The Distance from {names[0]}: {\", \".join(movie_distances)}')\n",
        "    #if number of movies in the filtered by genre datase is less than number of nearest neighbors - display it\n",
        "    else:\n",
        "        print('Limited number of movies. Try to use soft filtering.')\n"
      ]
    },
    {
      "cell_type": "markdown",
      "metadata": {
        "id": "gTa1A8G_xqEP"
      },
      "source": [
        "Let's check the result. We can see that all the movies have the same genre."
      ]
    },
    {
      "cell_type": "code",
      "execution_count": null,
      "metadata": {
        "colab": {
          "base_uri": "https://localhost:8080/"
        },
        "id": "_LnDsUMjqotK",
        "outputId": "61e4aae2-36d0-45c9-cecd-acc730a9863c"
      },
      "outputs": [
        {
          "name": "stdout",
          "output_type": "stream",
          "text": [
            "Movie genre is: Comedy|Drama|Romance\n",
            "\n",
            "The Nearest Movies to (500) Days of Summer (2009):\n",
            "Juno (2007), Comedy|Drama|Romance\n",
            "Crazy, Stupid, Love. (2011), Comedy|Drama|Romance\n",
            "Moonrise Kingdom (2012), Comedy|Drama|Romance\n",
            "Knocked Up (2007), Comedy|Drama|Romance\n",
            "Lost in Translation (2003), Comedy|Drama|Romance\n",
            "\n",
            "The Distance from (500) Days of Summer (2009): 0.33, 0.41, 0.43, 0.45, 0.49\n"
          ]
        }
      ],
      "source": [
        "show_closest_movies_genre_strict('(500) Days of Summer (2009)')"
      ]
    },
    {
      "cell_type": "markdown",
      "metadata": {
        "id": "aYLBQPsqyVLr"
      },
      "source": [
        "Function with soft filtering is quite similar. I use input to choose a specific genre."
      ]
    },
    {
      "cell_type": "code",
      "execution_count": null,
      "metadata": {
        "id": "eFMlzkPec0iG"
      },
      "outputs": [],
      "source": [
        "def show_closest_movies_genre_soft(movie):\n",
        "    #display a genre of the movie\n",
        "    print(f\"Movie genre is: {''.join(df[df.title == movie].genres.unique())}\")\n",
        "    #use input to type a genre\n",
        "    genre = input('Choose a specific genre which movies should cointain ')\n",
        "    #condition - make sure that a genre is a part of the input movie genre\n",
        "    if genre in ''.join(df[df.title == movie].genres.unique()).split('|'):\n",
        "      filter_genre = df_move[df_move['genres'].str.contains(genre)]\n",
        "      pivot = pd.pivot_table(filter_genre, values=['rating'], index=['title'], columns=['userId'], fill_value = 0)\n",
        "      if len(filter_genre.title.unique()) >= 6:  \n",
        "        knn = NearestNeighbors(metric='cosine', algorithm='brute')\n",
        "        knn.fit(pivot.values)\n",
        "        distances, indices = knn.kneighbors(pivot.values, n_neighbors=6)\n",
        "        index_for_movie = pivot.index.tolist().index(movie)\n",
        "        sim_movies = indices[index_for_movie].tolist()\n",
        "        names = [pivot.index[item] for item in sim_movies]\n",
        "        genres_film = [''.join(filter_genre[filter_genre.title == item].genres.unique()) for item in names]\n",
        "        names_genres = [', '.join(list(i)) for i in list(zip(names, genres_film))]\n",
        "        movie_distances = distances[index_for_movie].tolist()\n",
        "        movie_distances = [str(round(item,2)) for item in movie_distances]\n",
        "        id_movie = sim_movies.index(index_for_movie)\n",
        "        sim_movies.remove(index_for_movie)\n",
        "        movie_distances.pop(id_movie)\n",
        "        nl = '\\n'\n",
        "        print(f'\\nThe Nearest Movies to {names[0]}:\\n{nl.join(names_genres[1:])}\\n')\n",
        "        print(f'The Distance from {names[0]}: {\", \".join(movie_distances)}')\n",
        "      else:\n",
        "        print('Limited number of movies with this genre. Try to use soft filtering.')\n",
        "    #if the input movie genre doesn't cointain genre that was typed in the input - display it\n",
        "    else:\n",
        "      return 'Watched movie does not contain this genre'"
      ]
    },
    {
      "cell_type": "markdown",
      "metadata": {
        "id": "4CyuY9OH2D63"
      },
      "source": [
        "Also we can define a simple additional function that allows to choose between strict and soft filtering."
      ]
    },
    {
      "cell_type": "code",
      "execution_count": null,
      "metadata": {
        "colab": {
          "base_uri": "https://localhost:8080/"
        },
        "id": "wJyLQd6g5MC_",
        "outputId": "93d9f4f5-2020-4ff0-995e-600fe2998beb"
      },
      "outputs": [
        {
          "name": "stdout",
          "output_type": "stream",
          "text": [
            "Would you like to use strict filtering (y/n)? n\n",
            "Movie genre is: Comedy|Drama|Romance\n",
            "Choose a specific genre which movies should cointain Drama\n",
            "\n",
            "The Nearest Movies to (500) Days of Summer (2009):\n",
            "Inception (2010), Action|Crime|Drama|Mystery|Sci-Fi|Thriller|IMAX\n",
            "Juno (2007), Comedy|Drama|Romance\n",
            "Social Network (2010), Drama\n",
            "Inglourious Basterds (2009), Action|Drama|War\n",
            "Dark Knight (2008), Action|Crime|Drama|IMAX\n",
            "\n",
            "The Distance from (500) Days of Summer (2009): 0.33, 0.33, 0.34, 0.35, 0.35\n"
          ]
        }
      ],
      "source": [
        "def choose_filter(movie):  \n",
        "  answer = input('Would you like to use strict filtering (y/n)? ')\n",
        "  if answer == 'y':\n",
        "    show_closest_movies_genre_strict(movie)\n",
        "  elif answer == 'n':\n",
        "    show_closest_movies_genre_soft(movie)\n",
        "  else:\n",
        "    print('Incorrect answer')\n",
        "\n",
        "choose_filter('(500) Days of Summer (2009)')"
      ]
    },
    {
      "cell_type": "markdown",
      "metadata": {
        "id": "TCDrAP4--qok"
      },
      "source": [
        "Each movie genre includes Romance, as well as other genres."
      ]
    },
    {
      "cell_type": "markdown",
      "metadata": {
        "id": "d9xvCBFji9KC"
      },
      "source": [
        "<h3>In addition - building app in Flask</h3>\n",
        "\n",
        "Also, we can use Flask to build a simple application for movies recommender based on the functions we used before. The app will have three options - recommender without genres filtering, recommender with strict and soft filtering respectively. Since I plan to build the app in Google Colab, I will use ngrok. Ngrok is a cross-platform application that enables developers to expose a local development server to the Internet with minimal effort. It's needed to sign up on [the site](https://ngrok.com/) and create a token according to instructions on the site. First of all, we need to install modules. Pyngrok module is needed to avoid ngrok 6022 error."
      ]
    },
    {
      "cell_type": "code",
      "execution_count": null,
      "metadata": {
        "id": "C12Jl919p4E3"
      },
      "outputs": [],
      "source": [
        "#install necessary modules\n",
        "!pip install flask-ngrok &> /dev/null\n",
        "!pip install flask-bootstrap &> /dev/null\n",
        "!pip install pyngrok==4.1.1 &> /dev/null\n",
        "!pip install flask_navigation &> /dev/null"
      ]
    },
    {
      "cell_type": "markdown",
      "metadata": {
        "id": "uRdPUowQiLmU"
      },
      "source": [
        "To run the app, html files are needed. I create it in my local folder and upload it to Google Drive. It's needed to place .html file in a folder named templates. We could also use .css file for styling but in this example I don't use css."
      ]
    },
    {
      "cell_type": "code",
      "execution_count": null,
      "metadata": {
        "id": "LpzPXV5GqHae"
      },
      "outputs": [],
      "source": [
        "#upload files from google collab\n",
        "from google.colab import files\n",
        "uploaded = files.upload()"
      ]
    },
    {
      "cell_type": "markdown",
      "metadata": {
        "id": "jhfXQHKHnMot"
      },
      "source": [
        "After signing up and creating the token we can use it to run the app on Colab. Below is the code of the app. Html file and Jupiter Notebook with text and code are placed on my GitHub."
      ]
    },
    {
      "cell_type": "code",
      "execution_count": null,
      "metadata": {
        "id": "so3TEM-AmTBz"
      },
      "outputs": [],
      "source": [
        "#call ngrok access token\n",
        "!ngrok authtoken 'your ngrok token'\n",
        "#import modules\n",
        "from flask_ngrok import run_with_ngrok\n",
        "from flask import Flask, request,render_template, session\n",
        "\n",
        "#specify a folder where .html files are placed\n",
        "TEMPLATE = '/content/gdrive/MyDrive/Collaborative Filtering/templates'\n",
        "\n",
        "#app code\n",
        "app = Flask(__name__, template_folder=TEMPLATE)\n",
        "run_with_ngrok(app)\n",
        "app.config[\"SESSION_PERMANENT\"] = False\n",
        "app.config[\"SESSION_TYPE\"] = \"filesystem\"\n",
        "\n",
        "#recommender without filtering home page\n",
        "@app.route('/')\n",
        "def home_without_filters():\n",
        "    movies = list(pivot.index)\n",
        "    return render_template('home.html', movies=movies)\n",
        "\n",
        "#recommender without filtering predict page\n",
        "@app.route('/predict',methods=['POST'])\n",
        "def predict():\n",
        "  try:\n",
        "    movies = list(pivot.index)\n",
        "    movie = ''.join([x for x in request.form.values()])\n",
        "    index_for_movie = pivot.index.tolist().index(movie)\n",
        "    # find the indices for the similar movies\n",
        "    sim_movies = indices[index_for_movie].tolist()\n",
        "    #find corresponding movies titles by indices\n",
        "    names = [pivot.index[item] for item in sim_movies]\n",
        "    genres_film = [''.join(df_move[df_move.title == item].genres.unique()) for item in names]\n",
        "    names_genres = [', '.join(list(i)) for i in list(zip(names, genres_film))]\n",
        "    id_movie = sim_movies.index(index_for_movie)\n",
        "    selected = 'The nearest movies for ' + names_genres[0] + ':'\n",
        "    output = names_genres[1:]\n",
        "    return render_template('home.html', movies=movies, prediction_text=output, selected = selected)\n",
        "  except:\n",
        "    error_text = 'Some error occured, please try again'\n",
        "    return render_template('strict.html', movies=movies, selected=error_text)\n",
        "\n",
        "#recommender with strict filtering home page\n",
        "@app.route('/strict')\n",
        "def home_strict_filters():\n",
        "    movies = list(pivot.index)\n",
        "    return render_template('strict.html', movies=movies)\n",
        "\n",
        "#recommender with strict filtering predict page\n",
        "@app.route('/predict_strict',methods=['POST'])\n",
        "def predict_strict():\n",
        "  try:\n",
        "    movies = list(pivot.index)\n",
        "    movie = ''.join([x for x in request.form.values()])\n",
        "    print(movie)\n",
        "    genre = ''.join(df[df.title == movie].genres.unique())\n",
        "    filter_genre = df_move[df_move['genres'] == genre]\n",
        "    pivot_genre = pd.pivot_table(filter_genre, values=['rating'], index=['title'], columns=['userId'], fill_value = 0)\n",
        "    if len(filter_genre.title.unique()) >= 6:  \n",
        "        knn = NearestNeighbors(metric='cosine', algorithm='brute')\n",
        "        knn.fit(pivot_genre.values)\n",
        "        distances, indices = knn.kneighbors(pivot_genre.values, n_neighbors=6)\n",
        "        index_for_movie = pivot_genre.index.tolist().index(movie)\n",
        "        sim_movies = indices[index_for_movie].tolist()\n",
        "        names = [pivot_genre.index[item] for item in sim_movies]\n",
        "        genres_film = [''.join(filter_genre[filter_genre.title == item].genres.unique()) for item in names]\n",
        "        names_genres = [', '.join(list(i)) for i in list(zip(names, genres_film))]\n",
        "        id_movie = sim_movies.index(index_for_movie)\n",
        "        selected = 'The nearest movies for ' + names_genres[0] + ':'\n",
        "        output = names_genres[1:]\n",
        "        return render_template('strict.html', movies=movies, prediction_text=output, selected = selected)\n",
        "    else:\n",
        "        not_enough = 'There is not enough movies with the same genre, please try another one'\n",
        "        return render_template('strict.html', movies=movies, selected=not_enough)\n",
        "  except:\n",
        "        error_text = 'Some error occured, please try again'\n",
        "        return render_template('strict.html', movies=movies, selected=error_text)\n",
        "\n",
        "#recommender with soft filtering home page\n",
        "@app.route('/soft')\n",
        "def home_soft_filters():\n",
        "    movies = list(pivot.index)\n",
        "    return render_template('soft.html', movies=movies)\n",
        "\n",
        "#recommender with soft filtering predict page\n",
        "@app.route('/predict_soft', methods=['GET', 'POST'])\n",
        "def predict_soft():\n",
        "   try:\n",
        "      movies = list(pivot.index)\n",
        "      select = request.form.get('movies')\n",
        "      movie = select\n",
        "      if request.form['action'] == 'Select_movie':\n",
        "        genre = ''.join(df[df.title == select].genres.unique())\n",
        "        session[\"movie_name\"] = select\n",
        "        return render_template('soft.html', selected_genre = f'{movie} genre is {genre}', movies=movies)\n",
        "      else:\n",
        "        selected_movie = session.get('movie_name', None)\n",
        "        resp = [x for x in request.form.values()]\n",
        "        genre = resp[0]\n",
        "        filter_genre = df_move[df_move['genres'].str.contains(genre)]\n",
        "        pivot_genre = pd.pivot_table(filter_genre, values=['rating'], index=['title'], columns=['userId'], fill_value = 0)\n",
        "        if len(filter_genre.title.unique()) >= 6:  \n",
        "          knn = NearestNeighbors(metric='cosine', algorithm='brute')\n",
        "          knn.fit(pivot_genre.values)\n",
        "          distances, indices = knn.kneighbors(pivot_genre.values, n_neighbors=6)\n",
        "          index_for_movie = pivot_genre.index.tolist().index(selected_movie)\n",
        "          sim_movies = indices[index_for_movie].tolist()\n",
        "          names = [pivot_genre.index[item] for item in sim_movies]\n",
        "          genres_film = [''.join(filter_genre[filter_genre.title == item].genres.unique()) for item in names]\n",
        "          names_genres = [', '.join(list(i)) for i in list(zip(names, genres_film))]\n",
        "          id_movie = sim_movies.index(index_for_movie)\n",
        "          selected = 'The nearest movies for ' + names_genres[0] + ':'\n",
        "          output = names_genres[1:]\n",
        "          return render_template('soft.html', selected_genre = f'Movie genre should cointain {genre}', movies=movies, prediction_text=output, selected = selected)   \n",
        "        else:\n",
        "          not_enough = 'There is not enough movies with the same genre, please try another one'\n",
        "          return render_template('strict.html', movies=movies, selected=not_enough)\n",
        "   except:\n",
        "       error_text = 'You should enter one of the genres of the selected movie.'\n",
        "       return render_template('strict.html', movies=movies, selected=error_text)\n",
        "\n",
        "if __name__ == \"__main__\":\n",
        "  app.secret_key = 'super secret key'\n",
        "  app.run()"
      ]
    },
    {
      "cell_type": "markdown",
      "metadata": {
        "id": "oTa67Do8CWW7"
      },
      "source": [
        "Now the app runs at a localhost via ngrok.\n",
        "\n",
        "That's all about developing the movie recommender using item-based collaborative filtering. Thank you for your attention!"
      ]
    },
    {
      "cell_type": "markdown",
      "metadata": {
        "id": "Im3_c1c9dDyP"
      },
      "source": [
        "<h3>References:</h3>\n",
        "1. Yohan Jeong. Item-Based Collaborative Filtering in Python\n",
        "The practice of making the item-based collaborative filtering in python. Towards Data Sciense. URL: https://towardsdatascience.com/item-based-collaborative-filtering-in-python-91f747200fab\n",
        "\n",
        "2. Abhinav Ajitsaria. Build a Recommendation Engine With Collaborative Filtering. Real Python. URL: https://realpython.com/build-recommendation-engine-collaborative-filtering/#user-based-vs-item-based-collaborative-filtering\n",
        "\n",
        "3. MovieLens 25M Dataset. Grouplens. URL: https://files.grouplens.org/datasets/movielens/ml-25m-README.html\n",
        "\n",
        "4. MovieLens 25M Dataset summary. Grouplens. URL: https://files.grouplens.org/datasets/movielens/ml-25m-README.html\n",
        "\n",
        "5. Onel Harrison. Machine Learning Basics with the K-Nearest Neighbors Algorithm. Towards Data Sciense. URL: https://towardsdatascience.com/machine-learning-basics-with-the-k-nearest-neighbors-algorithm-6a6e71d01761"
      ]
    }
  ],
  "metadata": {
    "colab": {
      "collapsed_sections": [],
      "name": "Copy of Collaborative filtering.ipynb",
      "provenance": []
    },
    "kernelspec": {
      "display_name": "Python 3",
      "name": "python3"
    },
    "language_info": {
      "name": "python"
    }
  },
  "nbformat": 4,
  "nbformat_minor": 0
}
